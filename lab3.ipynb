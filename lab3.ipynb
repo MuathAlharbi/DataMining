{
 "cells": [
  {
   "cell_type": "markdown",
   "metadata": {},
   "source": [
    "<h1>Example 1</h1>"
   ]
  },
  {
   "cell_type": "code",
   "execution_count": 14,
   "metadata": {},
   "outputs": [],
   "source": [
    "def conform(fav):\n",
    "    fav=42\n",
    "    return fav"
   ]
  },
  {
   "cell_type": "code",
   "execution_count": 26,
   "metadata": {},
   "outputs": [
    {
     "name": "stdout",
     "output_type": "stream",
     "text": [
      "welcome\n",
      "My favortie w is  7\n"
     ]
    }
   ],
   "source": [
    "\n",
    "if __name__== \"__main__\":\n",
    "    print(\"welcome\")\n",
    "    fav =7\n",
    "    conform(fav)\n",
    "    print(\"My favortie w is \", fav)"
   ]
  },
  {
   "cell_type": "markdown",
   "metadata": {},
   "source": [
    "<h1>Example 1.2: </h1>"
   ]
  },
  {
   "cell_type": "code",
   "execution_count": 29,
   "metadata": {},
   "outputs": [
    {
     "name": "stdout",
     "output_type": "stream",
     "text": [
      "outside the function {'A': 28, 'B': 25, 'C': 32, 'D': 25, 'E': 30, 'F': 28}\n"
     ]
    }
   ],
   "source": [
    "student={'A':28,'B':25,'C':32,'D':25}\n",
    "def test(student):\n",
    "    new={'E':30,'F':28}\n",
    "    student.update(new)\n",
    "    return\n",
    "test(student)\n",
    "print(\"outside the function\",student)"
   ]
  },
  {
   "cell_type": "markdown",
   "metadata": {},
   "source": [
    "<h1>Exercise2.1:</h1>"
   ]
  },
  {
   "cell_type": "code",
   "execution_count": 1,
   "metadata": {},
   "outputs": [
    {
     "name": "stdout",
     "output_type": "stream",
     "text": [
      "Muath\n"
     ]
    }
   ],
   "source": [
    "class student: \n",
    "\n",
    "    def __init__(self, name):\n",
    "        self.name=name\n",
    "        self.course_list= []\n",
    "std=student(\"Muath\")\n",
    "print(std.name)"
   ]
  },
  {
   "cell_type": "markdown",
   "metadata": {},
   "source": [
    "<h1> Methods 2.1 </h1>"
   ]
  },
  {
   "cell_type": "code",
   "execution_count": 1,
   "metadata": {},
   "outputs": [
    {
     "name": "stdout",
     "output_type": "stream",
     "text": [
      "Muath\n",
      "['python']\n"
     ]
    }
   ],
   "source": [
    "class student:\n",
    "    def __init__(self,name):\n",
    "        self.name=name\n",
    "        self.course_list=[]\n",
    "    def add(self,new_course):\n",
    "        self.course_list.append(new_course)\n",
    "std=student(\"Muath\")\n",
    "std.add(\"python\")\n",
    "print(std.name)\n",
    "print(std.course_list)"
   ]
  },
  {
   "cell_type": "markdown",
   "metadata": {},
   "source": [
    "<h1>Exersice 2.3</h1>"
   ]
  },
  {
   "cell_type": "code",
   "execution_count": null,
   "metadata": {},
   "outputs": [],
   "source": [
    "class student: \n",
    "\n",
    "    def __init__(self, name):\n",
    "        self.name=name\n",
    "        self.course_list= []\n",
    "    def add(self,new_course):\n",
    "        self.course_list.append(new_course)\n",
    "        \n",
    "std=student(\"Muath\")\n",
    "txt= input(\"type something here\")\n",
    "std.add(txt)\n",
    "print(std.course_list)\n"
   ]
  },
  {
   "cell_type": "code",
   "execution_count": 2,
   "metadata": {},
   "outputs": [
    {
     "name": "stdout",
     "output_type": "stream",
     "text": [
      "Mohammed Alsarem\n"
     ]
    }
   ],
   "source": [
    "class person: \n",
    "    def __init__(self,fname, lname):\n",
    "        self.firstname = fname\n",
    "        self.lastname = lname\n",
    "        \n",
    "    def printname(self):\n",
    "        print(self.firstname,self.lastname)\n",
    "        \n",
    "class professor(person):\n",
    "    pass\n",
    "\n",
    "mhd=professor(\"Mohammed\",\"Alsarem\")\n",
    "mhd.printname()"
   ]
  },
  {
   "cell_type": "code",
   "execution_count": null,
   "metadata": {},
   "outputs": [],
   "source": []
  }
 ],
 "metadata": {
  "kernelspec": {
   "display_name": "Python 3",
   "language": "python",
   "name": "python3"
  },
  "language_info": {
   "codemirror_mode": {
    "name": "ipython",
    "version": 3
   },
   "file_extension": ".py",
   "mimetype": "text/x-python",
   "name": "python",
   "nbconvert_exporter": "python",
   "pygments_lexer": "ipython3",
   "version": "3.8.5"
  }
 },
 "nbformat": 4,
 "nbformat_minor": 4
}
